{
  "nbformat": 4,
  "nbformat_minor": 0,
  "metadata": {
    "colab": {
      "name": "Assignment_4_Deep_learning_RNN.ipynb",
      "provenance": [],
      "collapsed_sections": []
    },
    "kernelspec": {
      "name": "python3",
      "display_name": "Python 3"
    },
    "accelerator": "GPU"
  },
  "cells": [
    {
      "cell_type": "markdown",
      "metadata": {
        "id": "kVI2capZgreE",
        "colab_type": "text"
      },
      "source": [
        "# RNN_Utilities "
      ]
    },
    {
      "cell_type": "markdown",
      "metadata": {
        "id": "SWl8WUf4hHBu",
        "colab_type": "text"
      },
      "source": [
        "\n",
        "\n",
        "> Imports\n",
        "\n"
      ]
    },
    {
      "cell_type": "code",
      "metadata": {
        "id": "eN8d9mTfhDtQ",
        "colab_type": "code",
        "colab": {}
      },
      "source": [
        "import numpy as np"
      ],
      "execution_count": 0,
      "outputs": []
    },
    {
      "cell_type": "markdown",
      "metadata": {
        "id": "HTkiElEkhO-S",
        "colab_type": "text"
      },
      "source": [
        "\n",
        "\n",
        "> Functions\n",
        "\n",
        "\n",
        "\n",
        "\n"
      ]
    },
    {
      "cell_type": "code",
      "metadata": {
        "id": "fqzWQ0e3hNY1",
        "colab_type": "code",
        "colab": {}
      },
      "source": [
        "def softmax(x):\n",
        "    e_x = np.exp(x - np.max(x))\n",
        "    return e_x / e_x.sum(axis=0)"
      ],
      "execution_count": 0,
      "outputs": []
    },
    {
      "cell_type": "code",
      "metadata": {
        "id": "zgMOY9cThWxr",
        "colab_type": "code",
        "colab": {}
      },
      "source": [
        "def sigmoid(x):\n",
        "    return 1 / (1 + np.exp(-x))"
      ],
      "execution_count": 0,
      "outputs": []
    },
    {
      "cell_type": "code",
      "metadata": {
        "id": "wQxzPWBhhaQd",
        "colab_type": "code",
        "colab": {}
      },
      "source": [
        "def initialize_adam(parameters) :\n",
        "    \"\"\"\n",
        "    Initializes v and s as two python dictionaries with:\n",
        "                - keys: \"dW1\", \"db1\", ..., \"dWL\", \"dbL\" \n",
        "                - values: numpy arrays of zeros of the same shape as the corresponding gradients/parameters.\n",
        "    \n",
        "    Arguments:\n",
        "    parameters -- python dictionary containing your parameters.\n",
        "                    parameters[\"W\" + str(l)] = Wl\n",
        "                    parameters[\"b\" + str(l)] = bl\n",
        "    \n",
        "    Returns: \n",
        "    v -- python dictionary that will contain the exponentially weighted average of the gradient.\n",
        "                    v[\"dW\" + str(l)] = ...\n",
        "                    v[\"db\" + str(l)] = ...\n",
        "    s -- python dictionary that will contain the exponentially weighted average of the squared gradient.\n",
        "                    s[\"dW\" + str(l)] = ...\n",
        "                    s[\"db\" + str(l)] = ...\n",
        "\n",
        "    \"\"\"\n",
        "    \n",
        "    L = len(parameters) // 2 # number of layers in the neural networks\n",
        "    v = {}\n",
        "    s = {}\n",
        "    \n",
        "    # Initialize v, s. Input: \"parameters\". Outputs: \"v, s\".\n",
        "    for l in range(L):\n",
        "    ### START CODE HERE ### (approx. 4 lines)\n",
        "        v[\"dW\" + str(l+1)] = np.zeros(parameters[\"W\" + str(l+1)].shape)\n",
        "        v[\"db\" + str(l+1)] = np.zeros(parameters[\"b\" + str(l+1)].shape)\n",
        "        s[\"dW\" + str(l+1)] = np.zeros(parameters[\"W\" + str(l+1)].shape)\n",
        "        s[\"db\" + str(l+1)] = np.zeros(parameters[\"b\" + str(l+1)].shape)\n",
        "    ### END CODE HERE ###\n",
        "    \n",
        "    return v, s"
      ],
      "execution_count": 0,
      "outputs": []
    },
    {
      "cell_type": "code",
      "metadata": {
        "id": "dtwBp5Zgf3OM",
        "colab_type": "code",
        "colab": {}
      },
      "source": [
        "def update_parameters_with_adam(parameters, grads, v, s, t, learning_rate = 0.01,\n",
        "                                beta1 = 0.9, beta2 = 0.999,  epsilon = 1e-8):\n",
        "    \"\"\"\n",
        "    Update parameters using Adam\n",
        "    \n",
        "    Arguments:\n",
        "    parameters -- python dictionary containing your parameters:\n",
        "                    parameters['W' + str(l)] = Wl\n",
        "                    parameters['b' + str(l)] = bl\n",
        "    grads -- python dictionary containing your gradients for each parameters:\n",
        "                    grads['dW' + str(l)] = dWl\n",
        "                    grads['db' + str(l)] = dbl\n",
        "    v -- Adam variable, moving average of the first gradient, python dictionary\n",
        "    s -- Adam variable, moving average of the squared gradient, python dictionary\n",
        "    learning_rate -- the learning rate, scalar.\n",
        "    beta1 -- Exponential decay hyperparameter for the first moment estimates \n",
        "    beta2 -- Exponential decay hyperparameter for the second moment estimates \n",
        "    epsilon -- hyperparameter preventing division by zero in Adam updates\n",
        "\n",
        "    Returns:\n",
        "    parameters -- python dictionary containing your updated parameters \n",
        "    v -- Adam variable, moving average of the first gradient, python dictionary\n",
        "    s -- Adam variable, moving average of the squared gradient, python dictionary\n",
        "    \"\"\"\n",
        "    \n",
        "    L = len(parameters) // 2                 # number of layers in the neural networks\n",
        "    v_corrected = {}                         # Initializing first moment estimate, python dictionary\n",
        "    s_corrected = {}                         # Initializing second moment estimate, python dictionary\n",
        "    \n",
        "    # Perform Adam update on all parameters\n",
        "    for l in range(L):\n",
        "        # Moving average of the gradients. Inputs: \"v, grads, beta1\". Output: \"v\".\n",
        "        ### START CODE HERE ### (approx. 2 lines)\n",
        "        v[\"dW\" + str(l+1)] = beta1 * v[\"dW\" + str(l+1)] + (1 - beta1) * grads[\"dW\" + str(l+1)] \n",
        "        v[\"db\" + str(l+1)] = beta1 * v[\"db\" + str(l+1)] + (1 - beta1) * grads[\"db\" + str(l+1)] \n",
        "        ### END CODE HERE ###\n",
        "\n",
        "        # Compute bias-corrected first moment estimate. Inputs: \"v, beta1, t\". Output: \"v_corrected\".\n",
        "        ### START CODE HERE ### (approx. 2 lines)\n",
        "        v_corrected[\"dW\" + str(l+1)] = v[\"dW\" + str(l+1)] / (1 - beta1**t)\n",
        "        v_corrected[\"db\" + str(l+1)] = v[\"db\" + str(l+1)] / (1 - beta1**t)\n",
        "        ### END CODE HERE ###\n",
        "\n",
        "        # Moving average of the squared gradients. Inputs: \"s, grads, beta2\". Output: \"s\".\n",
        "        ### START CODE HERE ### (approx. 2 lines)\n",
        "        s[\"dW\" + str(l+1)] = beta2 * s[\"dW\" + str(l+1)] + (1 - beta2) * (grads[\"dW\" + str(l+1)] ** 2)\n",
        "        s[\"db\" + str(l+1)] = beta2 * s[\"db\" + str(l+1)] + (1 - beta2) * (grads[\"db\" + str(l+1)] ** 2)\n",
        "        ### END CODE HERE ###\n",
        "\n",
        "        # Compute bias-corrected second raw moment estimate. Inputs: \"s, beta2, t\". Output: \"s_corrected\".\n",
        "        ### START CODE HERE ### (approx. 2 lines)\n",
        "        s_corrected[\"dW\" + str(l+1)] = s[\"dW\" + str(l+1)] / (1 - beta2 ** t)\n",
        "        s_corrected[\"db\" + str(l+1)] = s[\"db\" + str(l+1)] / (1 - beta2 ** t)\n",
        "        ### END CODE HERE ###\n",
        "\n",
        "        # Update parameters. Inputs: \"parameters, learning_rate, v_corrected, s_corrected, epsilon\". Output: \"parameters\".\n",
        "        ### START CODE HERE ### (approx. 2 lines)\n",
        "        parameters[\"W\" + str(l+1)] = parameters[\"W\" + str(l+1)] - learning_rate * v_corrected[\"dW\" + str(l+1)] / np.sqrt(s_corrected[\"dW\" + str(l+1)] + epsilon)\n",
        "        parameters[\"b\" + str(l+1)] = parameters[\"b\" + str(l+1)] - learning_rate * v_corrected[\"db\" + str(l+1)] / np.sqrt(s_corrected[\"db\" + str(l+1)] + epsilon)\n",
        "        ### END CODE HERE ###\n",
        "\n",
        "    return parameters, v, s"
      ],
      "execution_count": 0,
      "outputs": []
    },
    {
      "cell_type": "markdown",
      "metadata": {
        "id": "e_HmXHW8g1M-",
        "colab_type": "text"
      },
      "source": [
        "# Assignment_4 "
      ]
    },
    {
      "cell_type": "markdown",
      "metadata": {
        "id": "Lm8VlWBQhrsh",
        "colab_type": "text"
      },
      "source": [
        "\n",
        "\n",
        "> Imports\n",
        "\n"
      ]
    },
    {
      "cell_type": "code",
      "metadata": {
        "id": "yWhzDcpVhvmb",
        "colab_type": "code",
        "colab": {}
      },
      "source": [
        "#import numpy as np\n",
        "#from rnn_utils import *"
      ],
      "execution_count": 0,
      "outputs": []
    },
    {
      "cell_type": "markdown",
      "metadata": {
        "id": "8Qx0Qy6EiCn-",
        "colab_type": "text"
      },
      "source": [
        "> RNN "
      ]
    },
    {
      "cell_type": "code",
      "metadata": {
        "id": "nM9ztOZxhzC2",
        "colab_type": "code",
        "colab": {}
      },
      "source": [
        "def rnn_cell_forward(xt, a_prev, parameters):\n",
        "    \"\"\"\n",
        "    Implements a single forward step of the RNN-cell as described in Figure (2)\n",
        "\n",
        "    Arguments:\n",
        "    xt -- your input data at timestep \"t\", numpy array of shape (n_x, m).\n",
        "    a_prev -- Hidden state at timestep \"t-1\", numpy array of shape (n_a, m)\n",
        "    parameters -- python dictionary containing:\n",
        "                        Wax -- Weight matrix multiplying the input, numpy array of shape (n_a, n_x)\n",
        "                        Waa -- Weight matrix multiplying the hidden state, numpy array of shape (n_a, n_a)\n",
        "                        Wya -- Weight matrix relating the hidden-state to the output, numpy array of shape (n_y, n_a)\n",
        "                        ba --  Bias, numpy array of shape (n_a, 1)\n",
        "                        by -- Bias relating the hidden-state to the output, numpy array of shape (n_y, 1)\n",
        "    Returns:\n",
        "    a_next -- next hidden state, of shape (n_a, m)\n",
        "    yt_pred -- prediction at timestep \"t\", numpy array of shape (n_y, m)\n",
        "    cache -- tuple of values needed for the backward pass, contains (a_next, a_prev, xt, parameters)\n",
        "    \"\"\"\n",
        "    \n",
        "    # Retrieve parameters from \"parameters\"\n",
        "    Wax = parameters[\"Wax\"]\n",
        "    Waa = parameters[\"Waa\"]\n",
        "    Wya = parameters[\"Wya\"]\n",
        "    ba = parameters[\"ba\"]\n",
        "    by = parameters[\"by\"]\n",
        "    \n",
        "    ### START CODE HERE ### \n",
        "    # compute next activation state using the formula given above\n",
        "    a_next = np.tanh(np.dot(Wax, xt) + np.dot(Waa, a_prev) + ba)\n",
        "    # compute output of the current cell using the formula given above\n",
        "    yt_pred = softmax(np.dot(Wya,a_prev) +by)\n",
        "    ### END CODE HERE ###\n",
        "    \n",
        "    # store values you need for backward propagation in cache\n",
        "    cache = (a_next, a_prev, xt, parameters)\n",
        "    \n",
        "    return a_next, yt_pred, cache"
      ],
      "execution_count": 0,
      "outputs": []
    },
    {
      "cell_type": "code",
      "metadata": {
        "id": "x7jWhntjh4E0",
        "colab_type": "code",
        "colab": {}
      },
      "source": [
        "def rnn_forward(x, a0, parameters):\n",
        "    \"\"\"\n",
        "    Implement the forward propagation of the recurrent neural network described in Figure (3).\n",
        "\n",
        "    Arguments:\n",
        "    x -- Input data for every time-step, of shape (n_x, m, T_x).\n",
        "    a0 -- Initial hidden state, of shape (n_a, m)\n",
        "    parameters -- python dictionary containing:\n",
        "                        Waa -- Weight matrix multiplying the hidden state, numpy array of shape (n_a, n_a)\n",
        "                        Wax -- Weight matrix multiplying the input, numpy array of shape (n_a, n_x)\n",
        "                        Wya -- Weight matrix relating the hidden-state to the output, numpy array of shape (n_y, n_a)\n",
        "                        ba --  Bias numpy array of shape (n_a, 1)\n",
        "                        by -- Bias relating the hidden-state to the output, numpy array of shape (n_y, 1)\n",
        "\n",
        "    Returns:\n",
        "    a -- Hidden states for every time-step, numpy array of shape (n_a, m, T_x)\n",
        "    y_pred -- Predictions for every time-step, numpy array of shape (n_y, m, T_x)\n",
        "    caches -- tuple of values needed for the backward pass, contains (list of caches, x)\n",
        "    \"\"\"\n",
        "    \n",
        "    # Initialize \"caches\" which will contain the list of all caches\n",
        "    caches = []\n",
        "    \n",
        "    # Retrieve dimensions from shapes of x and Wy\n",
        "    n_x, m, T_x = x.shape\n",
        "    n_y, n_a = parameters[\"Wya\"].shape\n",
        "    \n",
        "    ### START CODE HERE ###\n",
        "    \n",
        "    # initialize \"a\" and \"y\" with zeros\n",
        "    a = np.zeros((n_a, m, T_x))\n",
        "    y_pred = np.zeros((n_y, m, T_x))\n",
        "    # Initialize a_next\n",
        "    a_next = a0\n",
        "    # loop over all time-steps\n",
        "    for i in range(0,T_x):\n",
        "        # Update next hidden state, compute the prediction, get the cache\n",
        "        a_next, yt_pred, cache = rnn_cell_forward(x[:,:,i], a_next, parameters)\n",
        "        # Save the value of the new \"next\" hidden state in a\n",
        "        a[:,:,i] = a_next\n",
        "        # Save the value of the prediction in y\n",
        "        y_pred[:,:,i] = yt_pred\n",
        "        # Append \"cache\" to \"caches\"   \n",
        "        caches.append(cache)\n",
        "    ### END CODE HERE ###\n",
        "    \n",
        "    # store values needed for backward propagation in cache\n",
        "    caches = (caches, x)\n",
        "    \n",
        "    return a, y_pred, caches"
      ],
      "execution_count": 0,
      "outputs": []
    },
    {
      "cell_type": "markdown",
      "metadata": {
        "id": "V0fHoauUiGIq",
        "colab_type": "text"
      },
      "source": [
        "> LSTM "
      ]
    },
    {
      "cell_type": "code",
      "metadata": {
        "id": "IQdXIiz0iJJK",
        "colab_type": "code",
        "colab": {}
      },
      "source": [
        "# GRADED FUNCTION: lstm_cell_forward\n",
        "\n",
        "def lstm_cell_forward(xt, a_prev, c_prev, parameters):\n",
        "    \"\"\"\n",
        "    Implement a single forward step of the LSTM-cell as described in Figure (4)\n",
        "\n",
        "    Arguments:\n",
        "    xt -- your input data at timestep \"t\", numpy array of shape (n_x, m).\n",
        "    a_prev -- Hidden state at timestep \"t-1\", numpy array of shape (n_a, m)\n",
        "    c_prev -- Memory state at timestep \"t-1\", numpy array of shape (n_a, m)\n",
        "    parameters -- python dictionary containing:\n",
        "                        Wf -- Weight matrix of the forget gate, numpy array of shape (n_a, n_a + n_x)\n",
        "                        bf -- Bias of the forget gate, numpy array of shape (n_a, 1)\n",
        "                        Wi -- Weight matrix of the update gate, numpy array of shape (n_a, n_a + n_x)\n",
        "                        bi -- Bias of the update gate, numpy array of shape (n_a, 1)\n",
        "                        Wc -- Weight matrix of the first \"tanh\", numpy array of shape (n_a, n_a + n_x)\n",
        "                        bc -- Bias of the first \"tanh\", numpy array of shape (n_a, 1)\n",
        "                        Wo -- Weight matrix of the output gate, numpy array of shape (n_a, n_a + n_x)\n",
        "                        bo -- Bias of the output gate, numpy array of shape (n_a, 1)\n",
        "                        Wy -- Weight matrix relating the hidden-state to the output, numpy array of shape (n_y, n_a)\n",
        "                        by -- Bias relating the hidden-state to the output, numpy array of shape (n_y, 1)\n",
        "                        \n",
        "    Returns:\n",
        "    a_next -- next hidden state, of shape (n_a, m)\n",
        "    c_next -- next memory state, of shape (n_a, m)\n",
        "    yt_pred -- prediction at timestep \"t\", numpy array of shape (n_y, m)\n",
        "    cache -- tuple of values needed for the backward pass, contains (a_next, c_next, a_prev, c_prev, xt, parameters)\n",
        "    \n",
        "    Note: ft/it/ot stand for the forget/update/output gates, cct stands for the candidate value (c tilde),\n",
        "          c stands for the memory value\n",
        "    \"\"\"\n",
        "\n",
        "    # Retrieve parameters from \"parameters\"\n",
        "    Wf = parameters[\"Wf\"]\n",
        "    bf = parameters[\"bf\"]\n",
        "    Wi = parameters[\"Wi\"]\n",
        "    bi = parameters[\"bi\"]\n",
        "    Wc = parameters[\"Wc\"]\n",
        "    bc = parameters[\"bc\"]\n",
        "    Wo = parameters[\"Wo\"]\n",
        "    bo = parameters[\"bo\"]\n",
        "    Wy = parameters[\"Wy\"]\n",
        "    by = parameters[\"by\"]\n",
        "    \n",
        "    # Retrieve dimensions from shapes of xt and Wy\n",
        "    n_x, m = xt.shape\n",
        "    n_y, n_a = Wy.shape\n",
        "\n",
        "    ### START CODE HERE ###\n",
        "    # Concatenate a_prev and xt \n",
        "    con_a_x = np.concatenate((a_prev,xt))\n",
        "    # Compute values for ft, it, cct, c_next, ot, a_next using the formulas given figure (4)\n",
        "    ft = sigmoid(np.dot(Wf,con_a_x) + bf)\n",
        "    it = sigmoid(np.dot(Wi,con_a_x) + bi)\n",
        "    cct = np.tanh(np.dot(Wc,con_a_x) + bc)\n",
        "    c_next = ft * c_prev  + it * cct \n",
        "    # Compute prediction of the LSTM cell \n",
        "    ot = sigmoid(np.dot(Wo,con_a_x) + bo)\n",
        "    a_next = ot *np.tanh(c_next)\n",
        "    yt_pred = softmax(np.dot(Wy,a_next) + by)\t\n",
        "    ### END CODE HERE ###\n",
        "\n",
        "    # store values needed for backward propagation in cache\n",
        "    cache = (a_next, c_next, a_prev, c_prev, ft, it, cct, ot, xt, parameters)\n",
        "\n",
        "    return a_next, c_next, yt_pred, cache"
      ],
      "execution_count": 0,
      "outputs": []
    },
    {
      "cell_type": "code",
      "metadata": {
        "id": "PA9sfR50iXZT",
        "colab_type": "code",
        "colab": {}
      },
      "source": [
        "# GRADED FUNCTION: lstm_forward\n",
        "\n",
        "def lstm_forward(x, a0, parameters):\n",
        "    \"\"\"\n",
        "    Implement the forward propagation of the recurrent neural network using an LSTM-cell described in Figure (3).\n",
        "\n",
        "    Arguments:\n",
        "    x -- Input data for every time-step, of shape (n_x, m, T_x).\n",
        "    a0 -- Initial hidden state, of shape (n_a, m)\n",
        "    parameters -- python dictionary containing:\n",
        "                        Wf -- Weight matrix of the forget gate, numpy array of shape (n_a, n_a + n_x)\n",
        "                        bf -- Bias of the forget gate, numpy array of shape (n_a, 1)\n",
        "                        Wi -- Weight matrix of the update gate, numpy array of shape (n_a, n_a + n_x)\n",
        "                        bi -- Bias of the update gate, numpy array of shape (n_a, 1)\n",
        "                        Wc -- Weight matrix of the first \"tanh\", numpy array of shape (n_a, n_a + n_x)\n",
        "                        bc -- Bias of the first \"tanh\", numpy array of shape (n_a, 1)\n",
        "                        Wo -- Weight matrix of the output gate, numpy array of shape (n_a, n_a + n_x)\n",
        "                        bo -- Bias of the output gate, numpy array of shape (n_a, 1)\n",
        "                        Wy -- Weight matrix relating the hidden-state to the output, numpy array of shape (n_y, n_a)\n",
        "                        by -- Bias relating the hidden-state to the output, numpy array of shape (n_y, 1)\n",
        "                        \n",
        "    Returns:\n",
        "    a -- Hidden states for every time-step, numpy array of shape (n_a, m, T_x)\n",
        "    y -- Predictions for every time-step, numpy array of shape (n_y, m, T_x)\n",
        "    caches -- tuple of values needed for the backward pass, contains (list of all the caches, x)\n",
        "    \"\"\"\n",
        "\n",
        "    # Initialize \"caches\", which will track the list of all the caches\n",
        "    caches = []\n",
        "\n",
        "    \n",
        "    ### START CODE HERE ###\n",
        "    # Retrieve dimensions from shapes of x and Wy\n",
        "    n_x, m, T_x = x.shape\n",
        "    n_y, n_a = parameters[\"Wy\"].shape\n",
        "\n",
        "    # initialize \"a\", \"c\" and \"y\" with zeros\n",
        "    a = np.zeros((n_a, m, T_x))\n",
        "    c = np.zeros((n_a, m, T_x))\n",
        "    y = np.zeros((n_y, m, T_x))\n",
        " \n",
        "    # Initialize a_next and c_next\n",
        "    a_next = a0\n",
        "    c_next = np.zeros((n_a, m))\n",
        "\n",
        "    # loop over all time-steps\n",
        "    for i in range(0, T_x):\n",
        "        # Update next hidden state, next memory state, compute the prediction, get the cache\n",
        "        a_next, c_next, yt_pred, cache = lstm_cell_forward(x[:,:,i], a_next, c_next, parameters)\n",
        "        a[:,:,i] = a_next\n",
        "        # Save the value of the prediction in y\n",
        "        y[:,:,i] = yt_pred\n",
        "        # Save the value of the next cell state\n",
        "        c[:,:,i] = c_next\n",
        "        # Append the cache into caches \n",
        "        caches.append(cache)\n",
        "    ### END CODE HERE ###\n",
        "    \n",
        "    # store values needed for backward propagation in cache\n",
        "    caches = (caches, x)\n",
        "\n",
        "    return a, y, c, caches"
      ],
      "execution_count": 0,
      "outputs": []
    },
    {
      "cell_type": "markdown",
      "metadata": {
        "id": "7pWbA9RlifBo",
        "colab_type": "text"
      },
      "source": [
        "> RNN Backward\n"
      ]
    },
    {
      "cell_type": "code",
      "metadata": {
        "id": "NaMtsMjlikZ-",
        "colab_type": "code",
        "colab": {}
      },
      "source": [
        "def rnn_cell_backward(da_next, cache):\n",
        "    \"\"\"\n",
        "    Implements the backward pass for the RNN-cell (single time-step).\n",
        "\n",
        "    Arguments:\n",
        "    da_next -- Gradient of loss with respect to next hidden state\n",
        "    cache -- python dictionary containing useful values (output of rnn_cell_forward())\n",
        "\n",
        "    Returns:\n",
        "    gradients -- python dictionary containing:\n",
        "                        dx -- Gradients of input data, of shape (n_x, m)\n",
        "                        da_prev -- Gradients of previous hidden state, of shape (n_a, m)\n",
        "                        dWax -- Gradients of input-to-hidden weights, of shape (n_a, n_x)\n",
        "                        dWaa -- Gradients of hidden-to-hidden weights, of shape (n_a, n_a)\n",
        "                        dba -- Gradients of bias vector, of shape (n_a, 1)\n",
        "    \"\"\"\n",
        "    \n",
        "    # Retrieve values from cache\n",
        "    (a_next, a_prev, xt, parameters) = cache\n",
        "    \n",
        "    # Retrieve values from parameters\n",
        "    Wax = parameters[\"Wax\"]\n",
        "    Waa = parameters[\"Waa\"]\n",
        "    Wya = parameters[\"Wya\"]\n",
        "    ba = parameters[\"ba\"]\n",
        "    by = parameters[\"by\"]\n",
        "\n",
        "    ### START CODE HERE ###\n",
        "    dtanh = 1 - (np.power(a_next, 2))\n",
        "    # compute the gradient of tanh with respect to a_next\n",
        "    dxt = np.dot(Wax.T, da_next*dtanh)\n",
        "    da_prev = np.dot(Waa.T, da_next*dtanh)\n",
        "    # compute the gradient of the loss with respect to Wax \n",
        "    dWax = np.dot(da_next*dtanh, xt.T)\n",
        "    # compute the gradient with respect to Waa \n",
        "    dWaa = np.dot(da_next*dtanh, a_prev.T)\n",
        "    # compute the gradient with respect to b\n",
        "    dba =  np.sum(da_next*dtanh, axis=1, keepdims=True)\n",
        "    ### END CODE HERE ###\n",
        "    \n",
        "    # Store the gradients in a python dictionary\n",
        "    gradients = {\"dxt\": dxt, \"da_prev\": da_prev, \"dWax\": dWax, \"dWaa\": dWaa, \"dba\": dba}\n",
        "    \n",
        "    return gradients"
      ],
      "execution_count": 0,
      "outputs": []
    },
    {
      "cell_type": "code",
      "metadata": {
        "id": "1H_jRBLuins7",
        "colab_type": "code",
        "colab": {}
      },
      "source": [
        "def rnn_backward(da, caches):\n",
        "    \"\"\"\n",
        "    Implement the backward pass for a RNN over an entire sequence of input data.\n",
        "\n",
        "    Arguments:\n",
        "    da -- Upstream gradients of all hidden states, of shape (n_a, m, T_x)\n",
        "    caches -- tuple containing information from the forward pass (rnn_forward)\n",
        "    \n",
        "    Returns:\n",
        "    gradients -- python dictionary containing:\n",
        "                        dx -- Gradient w.r.t. the input data, numpy-array of shape (n_x, m, T_x)\n",
        "                        da0 -- Gradient w.r.t the initial hidden state, numpy-array of shape (n_a, m)\n",
        "                        dWax -- Gradient w.r.t the input's weight matrix, numpy-array of shape (n_a, n_x)\n",
        "                        dWaa -- Gradient w.r.t the hidden state's weight matrix, numpy-arrayof shape (n_a, n_a)\n",
        "                        dba -- Gradient w.r.t the bias, of shape (n_a, 1)\n",
        "    \"\"\"\n",
        "        \n",
        "    ### START CODE HERE ###\n",
        "    \n",
        "    # Retrieve values from the first cache (t=1) of caches\n",
        "    (caches, x) = caches\n",
        "    (a1, a0, x1, parameters) = caches[1]\n",
        "    # Retrieve dimensions from da's and x1's shapes \n",
        "    n_a, m, T_x = da.shape\n",
        "    n_x, m = x1.shape\n",
        "    # initialize the gradients with the right sizes \n",
        "    dx = np.zeros((n_x, m, T_x))\n",
        "    da0 = np.zeros((n_a, m))\n",
        "    dWax = np.zeros((n_a, n_x))\n",
        "    dWaa = np.zeros((n_a, n_a))\n",
        "    dba = np.zeros((n_a, 1))\n",
        "    da_prevt = np.zeros((n_a, m)) \n",
        "    \n",
        "    # Loop through all the time steps\n",
        "    for i in range(T_x - 1, -1, -1):\n",
        "        # Compute gradients at time step t. Choose wisely the \"da_next\" and the \"cache\" to use in the backward propagation step.\n",
        "        gradients = rnn_cell_backward(da[:,:,i] + da_prevt, caches[i])\n",
        "        # Retrieve derivatives from gradients\n",
        "        dxt = gradients[\"dxt\"]\n",
        "        da_prevt = gradients[\"da_prev\"]\n",
        "        dWaxt = gradients[\"dWax\"] \n",
        "        dWaat = gradients[\"dWaa\"]\n",
        "        dbat = gradients[\"dba\"]\n",
        "        # Increment global derivatives w.r.t parameters by adding their derivative at time-step t\n",
        "        dx[:,:,i] = dxt\n",
        "        dWax += dWaxt\n",
        "        dWaa += dWaat\n",
        "        dba += dbat\n",
        "    # Set da0 to the gradient of a which has been backpropagated through all time-steps \n",
        "    da0 = da_prevt\n",
        "    ### END CODE HERE ###\n",
        "\n",
        "    # Store the gradients in a python dictionary\n",
        "    gradients = {\"dx\": dx, \"da0\": da0, \"dWax\": dWax, \"dWaa\": dWaa,\"dba\": dba}\n",
        "    \n",
        "    return gradients"
      ],
      "execution_count": 0,
      "outputs": []
    },
    {
      "cell_type": "code",
      "metadata": {
        "id": "vXCdRgeJg0cZ",
        "colab_type": "code",
        "colab": {
          "base_uri": "https://localhost:8080/",
          "height": 901
        },
        "outputId": "c5221844-4ec4-4e15-e84b-7c20f9021f4b"
      },
      "source": [
        "np.random.seed(1)\n",
        "xt = np.random.randn(3,10)\n",
        "a_prev = np.random.randn(5,10)\n",
        "Waa = np.random.randn(5,5)\n",
        "Wax = np.random.randn(5,3)\n",
        "Wya = np.random.randn(2,5)\n",
        "ba = np.random.randn(5,1)\n",
        "by = np.random.randn(2,1)\n",
        "parameters = {\"Waa\": Waa, \"Wax\": Wax, \"Wya\": Wya, \"ba\": ba, \"by\": by}\n",
        "\n",
        "a_next, yt_pred, cache = rnn_cell_forward(xt, a_prev, parameters)\n",
        "print(\"a_next[4] = \", a_next[4])\n",
        "print(\"a_next.shape = \", a_next.shape)\n",
        "print(\"yt_pred[1] =\", yt_pred[1])\n",
        "print(\"yt_pred.shape = \", yt_pred.shape)\n",
        "\n",
        "\n",
        "np.random.seed(1)\n",
        "x = np.random.randn(3,10,4)\n",
        "a0 = np.random.randn(5,10)\n",
        "Waa = np.random.randn(5,5)\n",
        "Wax = np.random.randn(5,3)\n",
        "Wya = np.random.randn(2,5)\n",
        "ba = np.random.randn(5,1)\n",
        "by = np.random.randn(2,1)\n",
        "parameters = {\"Waa\": Waa, \"Wax\": Wax, \"Wya\": Wya, \"ba\": ba, \"by\": by}\n",
        "\n",
        "a, y_pred, caches = rnn_forward(x, a0, parameters)\n",
        "print(\"a[4][1] = \", a[4][1])\n",
        "print(\"a.shape = \", a.shape)\n",
        "print(\"y_pred[1][3] =\", y_pred[1][3])\n",
        "print(\"y_pred.shape = \", y_pred.shape)\n",
        "print(\"caches[1][1][3] =\", caches[1][1][3])\n",
        "print(\"len(caches) = \", len(caches))\n",
        "\n",
        "np.random.seed(1)\n",
        "xt = np.random.randn(3,10)\n",
        "a_prev = np.random.randn(5,10)\n",
        "c_prev = np.random.randn(5,10)\n",
        "Wf = np.random.randn(5, 5+3)\n",
        "bf = np.random.randn(5,1)\n",
        "Wi = np.random.randn(5, 5+3)\n",
        "bi = np.random.randn(5,1)\n",
        "Wo = np.random.randn(5, 5+3)\n",
        "bo = np.random.randn(5,1)\n",
        "Wc = np.random.randn(5, 5+3)\n",
        "bc = np.random.randn(5,1)\n",
        "Wy = np.random.randn(2,5)\n",
        "by = np.random.randn(2,1)\n",
        "\n",
        "parameters = {\"Wf\": Wf, \"Wi\": Wi, \"Wo\": Wo, \"Wc\": Wc, \"Wy\": Wy, \"bf\": bf, \"bi\": bi, \"bo\": bo, \"bc\": bc, \"by\": by}\n",
        "\n",
        "a_next, c_next, yt, cache = lstm_cell_forward(xt, a_prev, c_prev, parameters)\n",
        "print(\"a_next[4] = \", a_next[4])\n",
        "print(\"a_next.shape = \", c_next.shape)\n",
        "print(\"c_next[2] = \", c_next[2])\n",
        "print(\"c_next.shape = \", c_next.shape)\n",
        "print(\"yt[1] =\", yt[1])\n",
        "print(\"yt.shape = \", yt.shape)\n",
        "print(\"cache[1][3] =\", cache[1][3])\n",
        "print(\"len(cache) = \", len(cache))\n",
        "\n",
        "np.random.seed(1)\n",
        "x = np.random.randn(3,10,7)\n",
        "a0 = np.random.randn(5,10)\n",
        "Wf = np.random.randn(5, 5+3)\n",
        "bf = np.random.randn(5,1)\n",
        "Wi = np.random.randn(5, 5+3)\n",
        "bi = np.random.randn(5,1)\n",
        "Wo = np.random.randn(5, 5+3)\n",
        "bo = np.random.randn(5,1)\n",
        "Wc = np.random.randn(5, 5+3)\n",
        "bc = np.random.randn(5,1)\n",
        "Wy = np.random.randn(2,5)\n",
        "by = np.random.randn(2,1)\n",
        "\n",
        "parameters = {\"Wf\": Wf, \"Wi\": Wi, \"Wo\": Wo, \"Wc\": Wc, \"Wy\": Wy, \"bf\": bf, \"bi\": bi, \"bo\": bo, \"bc\": bc, \"by\": by}\n",
        "\n",
        "a, y, c, caches = lstm_forward(x, a0, parameters)\n",
        "print(\"a[4][3][6] = \", a[4][3][6])\n",
        "print(\"a.shape = \", a.shape)\n",
        "print(\"y[1][4][3] =\", y[1][4][3])\n",
        "print(\"y.shape = \", y.shape)\n",
        "print(\"caches[1][1[1]] =\", caches[1][1][1])\n",
        "print(\"c[1][2][1]\", c[1][2][1])\n",
        "print(\"len(caches) = \", len(caches))\n",
        "\n",
        "np.random.seed(1)\n",
        "xt = np.random.randn(3,10)\n",
        "a_prev = np.random.randn(5,10)\n",
        "Wax = np.random.randn(5,3)\n",
        "Waa = np.random.randn(5,5)\n",
        "Wya = np.random.randn(2,5)\n",
        "b = np.random.randn(5,1)\n",
        "by = np.random.randn(2,1)\n",
        "parameters = {\"Wax\": Wax, \"Waa\": Waa, \"Wya\": Wya, \"ba\": ba, \"by\": by}\n",
        "\n",
        "a_next, yt, cache = rnn_cell_forward(xt, a_prev, parameters)\n",
        "\n",
        "da_next = np.random.randn(5,10)\n",
        "gradients = rnn_cell_backward(da_next, cache)\n",
        "print(\"gradients[\\\"dxt\\\"][1][2] =\", gradients[\"dxt\"][1][2])\n",
        "print(\"gradients[\\\"dxt\\\"].shape =\", gradients[\"dxt\"].shape)\n",
        "print(\"gradients[\\\"da_prev\\\"][2][3] =\", gradients[\"da_prev\"][2][3])\n",
        "print(\"gradients[\\\"da_prev\\\"].shape =\", gradients[\"da_prev\"].shape)\n",
        "print(\"gradients[\\\"dWax\\\"][3][1] =\", gradients[\"dWax\"][3][1])\n",
        "print(\"gradients[\\\"dWax\\\"].shape =\", gradients[\"dWax\"].shape)\n",
        "print(\"gradients[\\\"dWaa\\\"][1][2] =\", gradients[\"dWaa\"][1][2])\n",
        "print(\"gradients[\\\"dWaa\\\"].shape =\", gradients[\"dWaa\"].shape)\n",
        "print(\"gradients[\\\"dba\\\"][4] =\", gradients[\"dba\"][4])\n",
        "print(\"gradients[\\\"dba\\\"].shape =\", gradients[\"dba\"].shape)\n",
        "\n",
        "np.random.seed(1)\n",
        "x = np.random.randn(3,10,4)\n",
        "a0 = np.random.randn(5,10)\n",
        "Wax = np.random.randn(5,3)\n",
        "Waa = np.random.randn(5,5)\n",
        "Wya = np.random.randn(2,5)\n",
        "ba = np.random.randn(5,1)\n",
        "by = np.random.randn(2,1)\n",
        "parameters = {\"Wax\": Wax, \"Waa\": Waa, \"Wya\": Wya, \"ba\": ba, \"by\": by}\n",
        "a, y, caches = rnn_forward(x, a0, parameters)\n",
        "da = np.random.randn(5, 10, 4)\n",
        "gradients = rnn_backward(da, caches)\n",
        "\n",
        "print(\"gradients[\\\"dx\\\"][1][2] =\", gradients[\"dx\"][1][2])\n",
        "print(\"gradients[\\\"dx\\\"].shape =\", gradients[\"dx\"].shape)\n",
        "print(\"gradients[\\\"da0\\\"][2][3] =\", gradients[\"da0\"][2][3])\n",
        "print(\"gradients[\\\"da0\\\"].shape =\", gradients[\"da0\"].shape)\n",
        "print(\"gradients[\\\"dWax\\\"][3][1] =\", gradients[\"dWax\"][3][1])\n",
        "print(\"gradients[\\\"dWax\\\"].shape =\", gradients[\"dWax\"].shape)\n",
        "print(\"gradients[\\\"dWaa\\\"][1][2] =\", gradients[\"dWaa\"][1][2])\n",
        "print(\"gradients[\\\"dWaa\\\"].shape =\", gradients[\"dWaa\"].shape)\n",
        "print(\"gradients[\\\"dba\\\"][4] =\", gradients[\"dba\"][4])\n",
        "print(\"gradients[\\\"dba\\\"].shape =\", gradients[\"dba\"].shape)\n"
      ],
      "execution_count": 39,
      "outputs": [
        {
          "output_type": "stream",
          "text": [
            "a_next[4] =  [ 0.59584544  0.18141802  0.61311866  0.99808218  0.85016201  0.99980978\n",
            " -0.18887155  0.99815551  0.6531151   0.82872037]\n",
            "a_next.shape =  (5, 10)\n",
            "yt_pred[1] = [0.11805736 0.00150244 0.16286607 0.99959053 0.4818786  0.00199492\n",
            " 0.00664413 0.95503173 0.04582838 0.99990195]\n",
            "yt_pred.shape =  (2, 10)\n",
            "a[4][1] =  [-0.99999375  0.77911235 -0.99861469 -0.99833267]\n",
            "a.shape =  (5, 10, 4)\n",
            "y_pred[1][3] = [0.96251083 0.79560373 0.86224861 0.11118257]\n",
            "y_pred.shape =  (2, 10, 4)\n",
            "caches[1][1][3] = [-1.1425182  -0.34934272 -0.20889423  0.58662319]\n",
            "len(caches) =  2\n",
            "a_next[4] =  [-0.66408471  0.0036921   0.02088357  0.22834167 -0.85575339  0.00138482\n",
            "  0.76566531  0.34631421 -0.00215674  0.43827275]\n",
            "a_next.shape =  (5, 10)\n",
            "c_next[2] =  [ 0.63267805  1.00570849  0.35504474  0.20690913 -1.64566718  0.11832942\n",
            "  0.76449811 -0.0981561  -0.74348425 -0.26810932]\n",
            "c_next.shape =  (5, 10)\n",
            "yt[1] = [0.79913913 0.15986619 0.22412122 0.15606108 0.97057211 0.31146381\n",
            " 0.00943007 0.12666353 0.39380172 0.07828381]\n",
            "yt.shape =  (2, 10)\n",
            "cache[1][3] = [-0.16263996  1.03729328  0.72938082 -0.54101719  0.02752074 -0.30821874\n",
            "  0.07651101 -1.03752894  1.41219977 -0.37647422]\n",
            "len(cache) =  10\n",
            "a[4][3][6] =  0.17211776753291672\n",
            "a.shape =  (5, 10, 7)\n",
            "y[1][4][3] = 0.9508734618501101\n",
            "y.shape =  (2, 10, 7)\n",
            "caches[1][1[1]] = [ 0.82797464  0.23009474  0.76201118 -0.22232814 -0.20075807  0.18656139\n",
            "  0.41005165]\n",
            "c[1][2][1] -0.8555449167181981\n",
            "len(caches) =  2\n",
            "gradients[\"dxt\"][1][2] = -0.4605641030588796\n",
            "gradients[\"dxt\"].shape = (3, 10)\n",
            "gradients[\"da_prev\"][2][3] = 0.08429686538067724\n",
            "gradients[\"da_prev\"].shape = (5, 10)\n",
            "gradients[\"dWax\"][3][1] = 0.39308187392193034\n",
            "gradients[\"dWax\"].shape = (5, 3)\n",
            "gradients[\"dWaa\"][1][2] = -0.28483955786960663\n",
            "gradients[\"dWaa\"].shape = (5, 5)\n",
            "gradients[\"dba\"][4] = [0.80517166]\n",
            "gradients[\"dba\"].shape = (5, 1)\n",
            "gradients[\"dx\"][1][2] = [-2.07101689 -0.59255627  0.02466855  0.01483317]\n",
            "gradients[\"dx\"].shape = (3, 10, 4)\n",
            "gradients[\"da0\"][2][3] = -0.31494237512664996\n",
            "gradients[\"da0\"].shape = (5, 10)\n",
            "gradients[\"dWax\"][3][1] = 11.264104496527777\n",
            "gradients[\"dWax\"].shape = (5, 3)\n",
            "gradients[\"dWaa\"][1][2] = 2.303333126579893\n",
            "gradients[\"dWaa\"].shape = (5, 5)\n",
            "gradients[\"dba\"][4] = [-0.74747722]\n",
            "gradients[\"dba\"].shape = (5, 1)\n"
          ],
          "name": "stdout"
        }
      ]
    },
    {
      "cell_type": "markdown",
      "metadata": {
        "id": "wKG0XZWgaCzO",
        "colab_type": "text"
      },
      "source": [
        "# Bouns\n",
        "\n"
      ]
    },
    {
      "cell_type": "markdown",
      "metadata": {
        "id": "FnevO8S4dHha",
        "colab_type": "text"
      },
      "source": [
        "> Import"
      ]
    },
    {
      "cell_type": "code",
      "metadata": {
        "id": "-o289oiTdKht",
        "colab_type": "code",
        "colab": {}
      },
      "source": [
        "%tensorflow_version 2.x\n",
        "import numpy as np\n",
        "import tensorflow as tf\n",
        "from tensorflow.keras.datasets import imdb\n",
        "from tensorflow.keras.models import Sequential\n",
        "from tensorflow.keras.layers import Dense\n",
        "from tensorflow.keras.layers import LSTM ,GRU, SimpleRNN\n",
        "from tensorflow.keras.layers import Embedding\n",
        "from tensorflow.keras.preprocessing import sequence\n",
        "import matplotlib.pyplot as plt\n",
        "from matplotlib.pyplot import imshow\n",
        "from tensorflow.keras.optimizers import SGD\n",
        "from sklearn.model_selection import train_test_split\n",
        "\n",
        "import random\n",
        "%matplotlib inline\n",
        "# fix random seed for reproducibility\n",
        "np.random.seed(7)\n"
      ],
      "execution_count": 0,
      "outputs": []
    },
    {
      "cell_type": "markdown",
      "metadata": {
        "id": "Xc0yp6jhc_0j",
        "colab_type": "text"
      },
      "source": [
        "\n",
        "\n",
        "`\n",
        "\n",
        ">Load Data \n",
        "\n",
        "\n",
        "\n",
        "\n"
      ]
    },
    {
      "cell_type": "code",
      "metadata": {
        "id": "GNipKv6gjHp3",
        "colab_type": "code",
        "colab": {}
      },
      "source": [
        "top_words = 5000\n",
        "max_review_length = 500\n",
        "embedding_vecor_length = 32"
      ],
      "execution_count": 0,
      "outputs": []
    },
    {
      "cell_type": "code",
      "metadata": {
        "id": "2RRWpnImdGrO",
        "colab_type": "code",
        "colab": {}
      },
      "source": [
        "def load_dataset():\n",
        "  (X_train, y_train), (X_test, y_test) = imdb.load_data(num_words=top_words)\n",
        "  return X_train, y_train, X_test, y_test"
      ],
      "execution_count": 0,
      "outputs": []
    },
    {
      "cell_type": "markdown",
      "metadata": {
        "id": "3ycj20FadLxl",
        "colab_type": "text"
      },
      "source": [
        "> preprocessing "
      ]
    },
    {
      "cell_type": "code",
      "metadata": {
        "id": "2MHjuWL1aBUb",
        "colab_type": "code",
        "colab": {}
      },
      "source": [
        "def preprocess_data(X_train, X_test):\n",
        "  X_train = sequence.pad_sequences(X_train, maxlen=max_review_length)\n",
        "  X_test = sequence.pad_sequences(X_test, maxlen=max_review_length)\n",
        "  return X_train,X_test\n"
      ],
      "execution_count": 0,
      "outputs": []
    },
    {
      "cell_type": "markdown",
      "metadata": {
        "id": "kZoDzwrNdOoZ",
        "colab_type": "text"
      },
      "source": [
        "> Build Model\n"
      ]
    },
    {
      "cell_type": "code",
      "metadata": {
        "id": "CxNjOnFldR6F",
        "colab_type": "code",
        "colab": {}
      },
      "source": [
        "def RNN_model():\n",
        "  model = Sequential()\n",
        "  model.add(Embedding(top_words, embedding_vecor_length, input_length=max_review_length))\n",
        "  model.add(SimpleRNN(128))\n",
        "  model.add(Dense(1, activation='sigmoid'))\n",
        "  return model"
      ],
      "execution_count": 0,
      "outputs": []
    },
    {
      "cell_type": "code",
      "metadata": {
        "id": "1M3zLb2Diwsn",
        "colab_type": "code",
        "colab": {}
      },
      "source": [
        "def LSTM_model():\n",
        "  model = Sequential()\n",
        "  model.add(Embedding(top_words, embedding_vecor_length, input_length=max_review_length))\n",
        "  model.add(LSTM(100))\n",
        "  model.add(Dense(1, activation='sigmoid'))\n",
        "  return model"
      ],
      "execution_count": 0,
      "outputs": []
    },
    {
      "cell_type": "code",
      "metadata": {
        "id": "l4E9zIxgi0sb",
        "colab_type": "code",
        "colab": {}
      },
      "source": [
        "def GRU_model():\n",
        "  model = Sequential()\n",
        "  model.add(Embedding(top_words, embedding_vecor_length, input_length=max_review_length))\n",
        "  model.add(GRU(256, return_sequences=True))\n",
        "  model.add(Dense(1, activation='sigmoid'))\n",
        "  return model"
      ],
      "execution_count": 0,
      "outputs": []
    },
    {
      "cell_type": "markdown",
      "metadata": {
        "id": "lUHMN2ENjqRH",
        "colab_type": "text"
      },
      "source": [
        "> Test Models\n"
      ]
    },
    {
      "cell_type": "code",
      "metadata": {
        "id": "zDzymkjnpkzf",
        "colab_type": "code",
        "colab": {}
      },
      "source": [
        "def plot(training_results, validation_results, results_type, model_name):\n",
        "    fig = plt.figure(figsize=[8, 6])\n",
        "\n",
        "    plt.plot(training_results, 'r', linewidth=3.0)\n",
        "    plt.plot(validation_results, 'b', linewidth=3.0)\n",
        "    plt.legend(['Training ' + results_type, 'Validation ' + results_type], fontsize=18)\n",
        "    plt.xlabel('Epochs', fontsize=16)\n",
        "    plt.ylabel(results_type, fontsize=16)\n",
        "    plt.title(results_type + ' of ' + model_name, fontsize=16)"
      ],
      "execution_count": 0,
      "outputs": []
    },
    {
      "cell_type": "code",
      "metadata": {
        "id": "RfeY0Gijjp5m",
        "colab_type": "code",
        "colab": {}
      },
      "source": [
        "def plot_accuracy(history, model_name):\n",
        "    plot(history.history['accuracy'], history.history['val_accuracy'], 'Accuracy', model_name)\n",
        "\n",
        "def plot_loss(history, model_name):\n",
        "    plot(history.history['loss'], history.history['val_loss'], 'Loss', model_name)\n",
        "\n",
        "def test_model(train_x, train_y, test_x, test_y ,model, model_name, epochs=10, print_summary=True, plot_results=True):\n",
        "\n",
        "    x_tr, x_val, y_tr, y_val = train_test_split(train_x, train_y, random_state = 3)\n",
        "        \n",
        "    model.compile(optimizer='adam', loss='binary_crossentropy', metrics=['accuracy'])\n",
        "    if (print_summary):\n",
        "        model.summary()\n",
        "\n",
        "    hist = model.fit(x_tr, y_tr, validation_data = (x_val, y_val), verbose=1, epochs=epochs, batch_size=64)\n",
        " \n",
        "    preds = model.evaluate(test_x, test_y, batch_size=64, verbose=1, sample_weight=None)\n",
        "    print (\"Testing Loss = \" + str(preds[0]))\n",
        "    print(\"Accuracy: %.2f%%\" % (preds[1]*100))\n",
        "    if(plot_results):\n",
        "        plot_loss(hist, model_name)\n",
        "        plot_accuracy(hist, model_name)"
      ],
      "execution_count": 0,
      "outputs": []
    },
    {
      "cell_type": "markdown",
      "metadata": {
        "id": "fFhuGlwhdSSP",
        "colab_type": "text"
      },
      "source": [
        "> Train Model\n"
      ]
    },
    {
      "cell_type": "code",
      "metadata": {
        "id": "Uwi_pdmi3DGc",
        "colab_type": "code",
        "colab": {
          "base_uri": "https://localhost:8080/",
          "height": 51
        },
        "outputId": "180dd547-5b60-46af-f003-5e86e768dddd"
      },
      "source": [
        "X_train, y_train, X_test, y_test = load_dataset()\n",
        "X_train ,X_test =  preprocess_data(X_train, X_test)"
      ],
      "execution_count": 8,
      "outputs": [
        {
          "output_type": "stream",
          "text": [
            "Downloading data from https://storage.googleapis.com/tensorflow/tf-keras-datasets/imdb.npz\n",
            "17465344/17464789 [==============================] - 0s 0us/step\n"
          ],
          "name": "stdout"
        }
      ]
    },
    {
      "cell_type": "code",
      "metadata": {
        "id": "58LQG5vfdVQ5",
        "colab_type": "code",
        "colab": {
          "base_uri": "https://localhost:8080/",
          "height": 1000
        },
        "outputId": "a021008e-3045-4ed5-89fd-f041f76c5746"
      },
      "source": [
        "\n",
        "model = LSTM_model()\n",
        "test_model(X_train, y_train, X_test, y_test,model, \"LTSM\", epochs=20)\n"
      ],
      "execution_count": 13,
      "outputs": [
        {
          "output_type": "stream",
          "text": [
            "Model: \"sequential_2\"\n",
            "_________________________________________________________________\n",
            "Layer (type)                 Output Shape              Param #   \n",
            "=================================================================\n",
            "embedding_2 (Embedding)      (None, 500, 32)           160000    \n",
            "_________________________________________________________________\n",
            "lstm_2 (LSTM)                (None, 100)               53200     \n",
            "_________________________________________________________________\n",
            "dense_2 (Dense)              (None, 1)                 101       \n",
            "=================================================================\n",
            "Total params: 213,301\n",
            "Trainable params: 213,301\n",
            "Non-trainable params: 0\n",
            "_________________________________________________________________\n",
            "Epoch 1/20\n",
            "293/293 [==============================] - 12s 41ms/step - loss: 0.5053 - accuracy: 0.7419 - val_loss: 0.3537 - val_accuracy: 0.8451\n",
            "Epoch 2/20\n",
            "293/293 [==============================] - 12s 40ms/step - loss: 0.3723 - accuracy: 0.8365 - val_loss: 0.3083 - val_accuracy: 0.8688\n",
            "Epoch 3/20\n",
            "293/293 [==============================] - 12s 40ms/step - loss: 0.2736 - accuracy: 0.8919 - val_loss: 0.3646 - val_accuracy: 0.8410\n",
            "Epoch 4/20\n",
            "293/293 [==============================] - 12s 40ms/step - loss: 0.2172 - accuracy: 0.9150 - val_loss: 0.3057 - val_accuracy: 0.8770\n",
            "Epoch 5/20\n",
            "293/293 [==============================] - 12s 40ms/step - loss: 0.1906 - accuracy: 0.9287 - val_loss: 0.3300 - val_accuracy: 0.8739\n",
            "Epoch 6/20\n",
            "293/293 [==============================] - 12s 40ms/step - loss: 0.1838 - accuracy: 0.9290 - val_loss: 0.3405 - val_accuracy: 0.8570\n",
            "Epoch 7/20\n",
            "293/293 [==============================] - 12s 40ms/step - loss: 0.1492 - accuracy: 0.9474 - val_loss: 0.3600 - val_accuracy: 0.8752\n",
            "Epoch 8/20\n",
            "293/293 [==============================] - 12s 40ms/step - loss: 0.1450 - accuracy: 0.9450 - val_loss: 0.4393 - val_accuracy: 0.8382\n",
            "Epoch 9/20\n",
            "293/293 [==============================] - 12s 40ms/step - loss: 0.1254 - accuracy: 0.9541 - val_loss: 0.4332 - val_accuracy: 0.8704\n",
            "Epoch 10/20\n",
            "293/293 [==============================] - 12s 40ms/step - loss: 0.1171 - accuracy: 0.9563 - val_loss: 0.4454 - val_accuracy: 0.8726\n",
            "Epoch 11/20\n",
            "293/293 [==============================] - 12s 40ms/step - loss: 0.1062 - accuracy: 0.9607 - val_loss: 0.4498 - val_accuracy: 0.8594\n",
            "Epoch 12/20\n",
            "293/293 [==============================] - 12s 40ms/step - loss: 0.0796 - accuracy: 0.9733 - val_loss: 0.5480 - val_accuracy: 0.8714\n",
            "Epoch 13/20\n",
            "293/293 [==============================] - 12s 40ms/step - loss: 0.0661 - accuracy: 0.9787 - val_loss: 0.4778 - val_accuracy: 0.8600\n",
            "Epoch 14/20\n",
            "293/293 [==============================] - 12s 40ms/step - loss: 0.0607 - accuracy: 0.9805 - val_loss: 0.5616 - val_accuracy: 0.8682\n",
            "Epoch 15/20\n",
            "293/293 [==============================] - 12s 40ms/step - loss: 0.0662 - accuracy: 0.9792 - val_loss: 0.5231 - val_accuracy: 0.8613\n",
            "Epoch 16/20\n",
            "293/293 [==============================] - 12s 40ms/step - loss: 0.0610 - accuracy: 0.9812 - val_loss: 0.5454 - val_accuracy: 0.8629\n",
            "Epoch 17/20\n",
            "293/293 [==============================] - 12s 40ms/step - loss: 0.0496 - accuracy: 0.9849 - val_loss: 0.6369 - val_accuracy: 0.8643\n",
            "Epoch 18/20\n",
            "293/293 [==============================] - 12s 40ms/step - loss: 0.0284 - accuracy: 0.9922 - val_loss: 0.6848 - val_accuracy: 0.8603\n",
            "Epoch 19/20\n",
            "293/293 [==============================] - 12s 40ms/step - loss: 0.0389 - accuracy: 0.9887 - val_loss: 0.7326 - val_accuracy: 0.8643\n",
            "Epoch 20/20\n",
            "293/293 [==============================] - 12s 40ms/step - loss: 0.0488 - accuracy: 0.9849 - val_loss: 0.6525 - val_accuracy: 0.8627\n",
            "391/391 [==============================] - 5s 14ms/step - loss: 0.7207 - accuracy: 0.8482\n",
            "Testing Loss = 0.7207333445549011\n",
            "Accuracy: 84.82%\n"
          ],
          "name": "stdout"
        },
        {
          "output_type": "display_data",
          "data": {
            "image/png": "[encoded data removed]",
            "text/plain": [
              "<Figure size 576x432 with 1 Axes>"
            ]
          },
          "metadata": {
            "tags": [],
            "needs_background": "light"
          }
        },
        {
          "output_type": "display_data",
          "data": {
            "image/png": "[encoded data removed]",
            "text/plain": [
              "<Figure size 576x432 with 1 Axes>"
            ]
          },
          "metadata": {
            "tags": [],
            "needs_background": "light"
          }
        }
      ]
    },
    {
      "cell_type": "code",
      "metadata": {
        "id": "OSvZobEGmWfa",
        "colab_type": "code",
        "colab": {
          "base_uri": "https://localhost:8080/",
          "height": 1000
        },
        "outputId": "0c45f162-5df7-4321-870b-4f66d0cbf39b"
      },
      "source": [
        "model = RNN_model()\n",
        "test_model(X_train, y_train, X_test, y_test,model, \"RNN Model\", epochs=20)"
      ],
      "execution_count": 9,
      "outputs": [
        {
          "output_type": "stream",
          "text": [
            "Model: \"sequential\"\n",
            "_________________________________________________________________\n",
            "Layer (type)                 Output Shape              Param #   \n",
            "=================================================================\n",
            "embedding (Embedding)        (None, 500, 32)           160000    \n",
            "_________________________________________________________________\n",
            "simple_rnn (SimpleRNN)       (None, 128)               20608     \n",
            "_________________________________________________________________\n",
            "dense (Dense)                (None, 1)                 129       \n",
            "=================================================================\n",
            "Total params: 180,737\n",
            "Trainable params: 180,737\n",
            "Non-trainable params: 0\n",
            "_________________________________________________________________\n",
            "Epoch 1/20\n",
            "293/293 [==============================] - 103s 350ms/step - loss: 0.6535 - accuracy: 0.5852 - val_loss: 0.4489 - val_accuracy: 0.7957\n",
            "Epoch 2/20\n",
            "293/293 [==============================] - 104s 356ms/step - loss: 0.4801 - accuracy: 0.7795 - val_loss: 0.4323 - val_accuracy: 0.8144\n",
            "Epoch 3/20\n",
            "293/293 [==============================] - 103s 353ms/step - loss: 0.5127 - accuracy: 0.7595 - val_loss: 0.6053 - val_accuracy: 0.6976\n",
            "Epoch 4/20\n",
            "293/293 [==============================] - 103s 353ms/step - loss: 0.5722 - accuracy: 0.7023 - val_loss: 0.6486 - val_accuracy: 0.6046\n",
            "Epoch 5/20\n",
            "293/293 [==============================] - 102s 348ms/step - loss: 0.6022 - accuracy: 0.6737 - val_loss: 0.6198 - val_accuracy: 0.6402\n",
            "Epoch 6/20\n",
            "293/293 [==============================] - 100s 340ms/step - loss: 0.5665 - accuracy: 0.6950 - val_loss: 0.6126 - val_accuracy: 0.6547\n",
            "Epoch 7/20\n",
            "293/293 [==============================] - 99s 337ms/step - loss: 0.5361 - accuracy: 0.7209 - val_loss: 0.6011 - val_accuracy: 0.6678\n",
            "Epoch 8/20\n",
            "293/293 [==============================] - 99s 338ms/step - loss: 0.4963 - accuracy: 0.7509 - val_loss: 0.5811 - val_accuracy: 0.7019\n",
            "Epoch 9/20\n",
            "293/293 [==============================] - 99s 338ms/step - loss: 0.4410 - accuracy: 0.7927 - val_loss: 0.5284 - val_accuracy: 0.7506\n",
            "Epoch 10/20\n",
            "293/293 [==============================] - 99s 339ms/step - loss: 0.3692 - accuracy: 0.8402 - val_loss: 0.4571 - val_accuracy: 0.7981\n",
            "Epoch 11/20\n",
            "293/293 [==============================] - 97s 330ms/step - loss: 0.3367 - accuracy: 0.8599 - val_loss: 0.4810 - val_accuracy: 0.7944\n",
            "Epoch 12/20\n",
            "293/293 [==============================] - 96s 327ms/step - loss: 0.2874 - accuracy: 0.8861 - val_loss: 0.4662 - val_accuracy: 0.8026\n",
            "Epoch 13/20\n",
            "293/293 [==============================] - 95s 325ms/step - loss: 0.2723 - accuracy: 0.8933 - val_loss: 0.5060 - val_accuracy: 0.7997\n",
            "Epoch 14/20\n",
            "293/293 [==============================] - 95s 324ms/step - loss: 0.2413 - accuracy: 0.9082 - val_loss: 0.4927 - val_accuracy: 0.7987\n",
            "Epoch 15/20\n",
            "293/293 [==============================] - 96s 327ms/step - loss: 0.2550 - accuracy: 0.9027 - val_loss: 0.5109 - val_accuracy: 0.7987\n",
            "Epoch 16/20\n",
            "293/293 [==============================] - 96s 326ms/step - loss: 0.2225 - accuracy: 0.9174 - val_loss: 0.5180 - val_accuracy: 0.8034\n",
            "Epoch 17/20\n",
            "293/293 [==============================] - 95s 325ms/step - loss: 0.2129 - accuracy: 0.9233 - val_loss: 0.5468 - val_accuracy: 0.8014\n",
            "Epoch 18/20\n",
            "293/293 [==============================] - 94s 321ms/step - loss: 0.1976 - accuracy: 0.9305 - val_loss: 0.5812 - val_accuracy: 0.7898\n",
            "Epoch 19/20\n",
            "293/293 [==============================] - 94s 322ms/step - loss: 0.1908 - accuracy: 0.9335 - val_loss: 0.5988 - val_accuracy: 0.7930\n",
            "Epoch 20/20\n",
            "293/293 [==============================] - 96s 327ms/step - loss: 0.2952 - accuracy: 0.8686 - val_loss: 0.6693 - val_accuracy: 0.6694\n",
            "391/391 [==============================] - 13s 32ms/step - loss: 0.6720 - accuracy: 0.6706\n",
            "Testing Loss = 0.6719792485237122\n",
            "Accuracy: 67.06%\n"
          ],
          "name": "stdout"
        },
        {
          "output_type": "display_data",
          "data": {
            "image/png": "[encoded data removed]",
            "text/plain": [
              "<Figure size 576x432 with 1 Axes>"
            ]
          },
          "metadata": {
            "tags": [],
            "needs_background": "light"
          }
        },
        {
          "output_type": "display_data",
          "data": {
            "image/png": "[encoded data removed]",
            "text/plain": [
              "<Figure size 576x432 with 1 Axes>"
            ]
          },
          "metadata": {
            "tags": [],
            "needs_background": "light"
          }
        }
      ]
    },
    {
      "cell_type": "code",
      "metadata": {
        "id": "YswK27R8mi5E",
        "colab_type": "code",
        "colab": {
          "base_uri": "https://localhost:8080/",
          "height": 1000
        },
        "outputId": "5341be11-a364-4464-c94e-4ca466ac7054"
      },
      "source": [
        "model = GRU_model()\n",
        "test_model(X_train, y_train, X_test, y_test,model, \"GRU Model\", epochs=20)"
      ],
      "execution_count": 15,
      "outputs": [
        {
          "output_type": "stream",
          "text": [
            "Model: \"sequential_4\"\n",
            "_________________________________________________________________\n",
            "Layer (type)                 Output Shape              Param #   \n",
            "=================================================================\n",
            "embedding_4 (Embedding)      (None, 500, 32)           160000    \n",
            "_________________________________________________________________\n",
            "gru (GRU)                    (None, 500, 256)          222720    \n",
            "_________________________________________________________________\n",
            "dense_3 (Dense)              (None, 500, 1)            257       \n",
            "=================================================================\n",
            "Total params: 382,977\n",
            "Trainable params: 382,977\n",
            "Non-trainable params: 0\n",
            "_________________________________________________________________\n",
            "Epoch 1/20\n",
            "293/293 [==============================] - 19s 63ms/step - loss: 0.6666 - accuracy: 0.5633 - val_loss: 0.5932 - val_accuracy: 0.6312\n",
            "Epoch 2/20\n",
            "293/293 [==============================] - 18s 62ms/step - loss: 0.5739 - accuracy: 0.6388 - val_loss: 0.5753 - val_accuracy: 0.6364\n",
            "Epoch 3/20\n",
            "293/293 [==============================] - 18s 61ms/step - loss: 0.5482 - accuracy: 0.6513 - val_loss: 0.5648 - val_accuracy: 0.6408\n",
            "Epoch 4/20\n",
            "293/293 [==============================] - 18s 61ms/step - loss: 0.5340 - accuracy: 0.6560 - val_loss: 0.5718 - val_accuracy: 0.6362\n",
            "Epoch 5/20\n",
            "293/293 [==============================] - 18s 61ms/step - loss: 0.5200 - accuracy: 0.6600 - val_loss: 0.5655 - val_accuracy: 0.6366\n",
            "Epoch 6/20\n",
            "293/293 [==============================] - 18s 61ms/step - loss: 0.5062 - accuracy: 0.6680 - val_loss: 0.5872 - val_accuracy: 0.6326\n",
            "Epoch 7/20\n",
            "293/293 [==============================] - 18s 61ms/step - loss: 0.4992 - accuracy: 0.6715 - val_loss: 0.5824 - val_accuracy: 0.6373\n",
            "Epoch 8/20\n",
            "293/293 [==============================] - 18s 61ms/step - loss: 0.4905 - accuracy: 0.6766 - val_loss: 0.6357 - val_accuracy: 0.6321\n",
            "Epoch 9/20\n",
            "293/293 [==============================] - 18s 61ms/step - loss: 0.4828 - accuracy: 0.6815 - val_loss: 0.5927 - val_accuracy: 0.6342\n",
            "Epoch 10/20\n",
            "293/293 [==============================] - 18s 61ms/step - loss: 0.4753 - accuracy: 0.6857 - val_loss: 0.6009 - val_accuracy: 0.6328\n",
            "Epoch 11/20\n",
            "293/293 [==============================] - 18s 61ms/step - loss: 0.4807 - accuracy: 0.6821 - val_loss: 0.6115 - val_accuracy: 0.6149\n",
            "Epoch 12/20\n",
            "293/293 [==============================] - 18s 61ms/step - loss: 0.4853 - accuracy: 0.6767 - val_loss: 0.6505 - val_accuracy: 0.6243\n",
            "Epoch 13/20\n",
            "293/293 [==============================] - 18s 61ms/step - loss: 0.4622 - accuracy: 0.6857 - val_loss: 0.6893 - val_accuracy: 0.6272\n",
            "Epoch 14/20\n",
            "293/293 [==============================] - 18s 62ms/step - loss: 0.4632 - accuracy: 0.6863 - val_loss: 0.6477 - val_accuracy: 0.6169\n",
            "Epoch 15/20\n",
            "293/293 [==============================] - 18s 61ms/step - loss: 0.4537 - accuracy: 0.6860 - val_loss: 0.6973 - val_accuracy: 0.6187\n",
            "Epoch 16/20\n",
            "293/293 [==============================] - 18s 61ms/step - loss: 0.4481 - accuracy: 0.6940 - val_loss: 0.7098 - val_accuracy: 0.6174\n",
            "Epoch 17/20\n",
            "293/293 [==============================] - 18s 62ms/step - loss: 0.4435 - accuracy: 0.6968 - val_loss: 0.7418 - val_accuracy: 0.6219\n",
            "Epoch 18/20\n",
            "293/293 [==============================] - 18s 62ms/step - loss: 0.4430 - accuracy: 0.6950 - val_loss: 0.8075 - val_accuracy: 0.6158\n",
            "Epoch 19/20\n",
            "293/293 [==============================] - 18s 61ms/step - loss: 0.4597 - accuracy: 0.6898 - val_loss: 0.7017 - val_accuracy: 0.6170\n",
            "Epoch 20/20\n",
            "293/293 [==============================] - 18s 61ms/step - loss: 0.4495 - accuracy: 0.6928 - val_loss: 0.7676 - val_accuracy: 0.6144\n",
            "391/391 [==============================] - 8s 20ms/step - loss: 0.8053 - accuracy: 0.6050\n",
            "Testing Loss = 0.8052820563316345\n",
            "Accuracy: 60.50%\n"
          ],
          "name": "stdout"
        },
        {
          "output_type": "display_data",
          "data": {
            "image/png": "[encoded data removed]",
            "text/plain": [
              "<Figure size 576x432 with 1 Axes>"
            ]
          },
          "metadata": {
            "tags": [],
            "needs_background": "light"
          }
        },
        {
          "output_type": "display_data",
          "data": {
            "image/png": "[encoded data removed]",
            "text/plain": [
              "<Figure size 576x432 with 1 Axes>"
            ]
          },
          "metadata": {
            "tags": [],
            "needs_background": "light"
          }
        }
      ]
    },
    {
      "cell_type": "markdown",
      "metadata": {
        "id": "iPLXWsjsmIMa",
        "colab_type": "text"
      },
      "source": [
        "> Resources \n",
        "\n",
        "\n",
        "1.   https://machinelearningmastery.com/sequence-classification-lstm-recurrent-neural-networks-python-keras/\n",
        "2.   https://www.tensorflow.org/tutorials/keras/text_classification\n",
        "3. https://www.tensorflow.org/tutorials/keras/text_classification\n",
        "4. Lab 3 starter code for load data and test model\n"
      ]
    }
  ]
}